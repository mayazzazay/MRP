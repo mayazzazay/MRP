{
  "nbformat": 4,
  "nbformat_minor": 0,
  "metadata": {
    "colab": {
      "name": "Plots.ipynb",
      "provenance": [],
      "collapsed_sections": [],
      "authorship_tag": "ABX9TyO8Z/7o2dNrQAS5c4sBLeNa",
      "include_colab_link": true
    },
    "kernelspec": {
      "name": "python3",
      "display_name": "Python 3"
    },
    "language_info": {
      "name": "python"
    }
  },
  "cells": [
    {
      "cell_type": "markdown",
      "metadata": {
        "id": "view-in-github",
        "colab_type": "text"
      },
      "source": [
        "<a href=\"https://colab.research.google.com/github/mayazzazay/MRP/blob/main/Plots.ipynb\" target=\"_parent\"><img src=\"https://colab.research.google.com/assets/colab-badge.svg\" alt=\"Open In Colab\"/></a>"
      ]
    },
    {
      "cell_type": "code",
      "metadata": {
        "colab": {
          "base_uri": "https://localhost:8080/"
        },
        "id": "KzWjH3fafg7x",
        "outputId": "ae9042db-7eea-4270-b98d-fe42da93bade"
      },
      "source": [
        "# to upload the dataset folder to colab from google drive\n",
        "from google.colab import drive\n",
        "\n",
        "drive.mount('/content/drive')"
      ],
      "execution_count": null,
      "outputs": [
        {
          "output_type": "stream",
          "text": [
            "Mounted at /content/drive\n"
          ],
          "name": "stdout"
        }
      ]
    },
    {
      "cell_type": "code",
      "metadata": {
        "id": "BOLNBYS3fiyU"
      },
      "source": [
        "# importing libraries\n",
        "\n",
        "import matplotlib.pyplot as plt\n",
        "import pandas as pd\n",
        "import numpy as np\n",
        "import seaborn as sns"
      ],
      "execution_count": null,
      "outputs": []
    },
    {
      "cell_type": "code",
      "metadata": {
        "id": "Yuv2mQqXfi03"
      },
      "source": [
        "# getting the paths of train data\n",
        "\n",
        "train_40x_path = '/content/drive/MyDrive/breast_cancer_data/train_40x'\n",
        "train_100x_path = '/content/drive/MyDrive/breast_cancer_data/train_100x'\n",
        "train_200x_path = '/content/drive/MyDrive/breast_cancer_data/train_200x'\n",
        "train_400x_path = '/content/drive/MyDrive/breast_cancer_data/train_400x'"
      ],
      "execution_count": null,
      "outputs": []
    },
    {
      "cell_type": "code",
      "metadata": {
        "id": "hw36R71afi3a"
      },
      "source": [
        "n_epochs = 80\n",
        "height = 224\n",
        "width = 224\n",
        "channels = 3\n",
        "input_shape = (height, width, channels)\n",
        "n_classes = 2\n",
        "lr = 1e-3\n",
        "batch_size = 16"
      ],
      "execution_count": null,
      "outputs": []
    },
    {
      "cell_type": "code",
      "metadata": {
        "id": "8YQcnL_ifi54"
      },
      "source": [
        "mag = [ '40x', '100x', '200x', '400x']\n",
        "\n",
        "mob_f1 = [ 93.17, 90.35, 89.73, 87.82]\n",
        "mob_sens = [ 93.84, 87.94, 89.25, 87.82]\n",
        "mob_spec = [ 82.93, 85.93, 78.23, 76.98]\n",
        "\n",
        "eff_f1 = [ 96.38, 95.09, 93.94, 91.24]\n",
        "eff_sens = [ 96.38, 96.10, 91.76, 94.12]\n",
        "eff_spec = [ 91.87, 87.41, 91.94, 76.98]"
      ],
      "execution_count": null,
      "outputs": []
    },
    {
      "cell_type": "code",
      "metadata": {
        "id": "mR1kiSF6fi9e"
      },
      "source": [
        ""
      ],
      "execution_count": null,
      "outputs": []
    },
    {
      "cell_type": "markdown",
      "metadata": {
        "id": "TJ1qgdtNfxW_"
      },
      "source": [
        "### Plots"
      ]
    },
    {
      "cell_type": "code",
      "metadata": {
        "id": "M6W28f3zfxnm",
        "colab": {
          "base_uri": "https://localhost:8080/",
          "height": 172
        },
        "outputId": "e9213f72-6217-49e1-d751-30a04752328c"
      },
      "source": [
        "f1_df = pd.DataFrame({'MobileNetV2' : mob_f1, 'EfficientNetB0' : eff_f1}, index = mag)\n",
        "f1_df"
      ],
      "execution_count": null,
      "outputs": [
        {
          "output_type": "execute_result",
          "data": {
            "text/html": [
              "<div>\n",
              "<style scoped>\n",
              "    .dataframe tbody tr th:only-of-type {\n",
              "        vertical-align: middle;\n",
              "    }\n",
              "\n",
              "    .dataframe tbody tr th {\n",
              "        vertical-align: top;\n",
              "    }\n",
              "\n",
              "    .dataframe thead th {\n",
              "        text-align: right;\n",
              "    }\n",
              "</style>\n",
              "<table border=\"1\" class=\"dataframe\">\n",
              "  <thead>\n",
              "    <tr style=\"text-align: right;\">\n",
              "      <th></th>\n",
              "      <th>MobileNetV2</th>\n",
              "      <th>EfficientNetB0</th>\n",
              "    </tr>\n",
              "  </thead>\n",
              "  <tbody>\n",
              "    <tr>\n",
              "      <th>40x</th>\n",
              "      <td>93.17</td>\n",
              "      <td>96.38</td>\n",
              "    </tr>\n",
              "    <tr>\n",
              "      <th>100x</th>\n",
              "      <td>90.35</td>\n",
              "      <td>95.09</td>\n",
              "    </tr>\n",
              "    <tr>\n",
              "      <th>200x</th>\n",
              "      <td>89.73</td>\n",
              "      <td>93.94</td>\n",
              "    </tr>\n",
              "    <tr>\n",
              "      <th>400x</th>\n",
              "      <td>87.82</td>\n",
              "      <td>91.24</td>\n",
              "    </tr>\n",
              "  </tbody>\n",
              "</table>\n",
              "</div>"
            ],
            "text/plain": [
              "      MobileNetV2  EfficientNetB0\n",
              "40x         93.17           96.38\n",
              "100x        90.35           95.09\n",
              "200x        89.73           93.94\n",
              "400x        87.82           91.24"
            ]
          },
          "metadata": {
            "tags": []
          },
          "execution_count": 7
        }
      ]
    },
    {
      "cell_type": "code",
      "metadata": {
        "id": "MQ7cqjqhfxyU",
        "colab": {
          "base_uri": "https://localhost:8080/",
          "height": 551
        },
        "outputId": "9145815e-c2ac-4ce4-b6b9-c360c79e1ef3"
      },
      "source": [
        "f1_df.plot.bar(title = 'F1-Score', figsize=(12,8))\n",
        "plt.title('F1 Score', fontsize = 16)\n",
        "plt.xlabel('Magnification Factor', fontsize = 14)\n",
        "plt.ylabel('F1 Score in %', fontsize = 14)"
      ],
      "execution_count": null,
      "outputs": [
        {
          "output_type": "execute_result",
          "data": {
            "text/plain": [
              "Text(0, 0.5, 'F1 Score in %')"
            ]
          },
          "metadata": {
            "tags": []
          },
          "execution_count": 9
        },
        {
          "output_type": "display_data",
          "data": {
            "image/png": "[encoded data removed]",
            "text/plain": [
              "<Figure size 864x576 with 1 Axes>"
            ]
          },
          "metadata": {
            "tags": [],
            "needs_background": "light"
          }
        }
      ]
    },
    {
      "cell_type": "code",
      "metadata": {
        "id": "VqNaJ4KZfx10",
        "colab": {
          "base_uri": "https://localhost:8080/",
          "height": 172
        },
        "outputId": "74a32239-6c18-4e20-8f2b-ed625860b140"
      },
      "source": [
        "sen_df = pd.DataFrame({'MobileNetV2' : mob_sens, 'EfficientNetB0' : eff_sens}, index = mag)\n",
        "sen_df"
      ],
      "execution_count": null,
      "outputs": [
        {
          "output_type": "execute_result",
          "data": {
            "text/html": [
              "<div>\n",
              "<style scoped>\n",
              "    .dataframe tbody tr th:only-of-type {\n",
              "        vertical-align: middle;\n",
              "    }\n",
              "\n",
              "    .dataframe tbody tr th {\n",
              "        vertical-align: top;\n",
              "    }\n",
              "\n",
              "    .dataframe thead th {\n",
              "        text-align: right;\n",
              "    }\n",
              "</style>\n",
              "<table border=\"1\" class=\"dataframe\">\n",
              "  <thead>\n",
              "    <tr style=\"text-align: right;\">\n",
              "      <th></th>\n",
              "      <th>MobileNetV2</th>\n",
              "      <th>EfficientNetB0</th>\n",
              "    </tr>\n",
              "  </thead>\n",
              "  <tbody>\n",
              "    <tr>\n",
              "      <th>40x</th>\n",
              "      <td>93.84</td>\n",
              "      <td>96.38</td>\n",
              "    </tr>\n",
              "    <tr>\n",
              "      <th>100x</th>\n",
              "      <td>87.94</td>\n",
              "      <td>96.10</td>\n",
              "    </tr>\n",
              "    <tr>\n",
              "      <th>200x</th>\n",
              "      <td>89.25</td>\n",
              "      <td>91.76</td>\n",
              "    </tr>\n",
              "    <tr>\n",
              "      <th>400x</th>\n",
              "      <td>87.82</td>\n",
              "      <td>94.12</td>\n",
              "    </tr>\n",
              "  </tbody>\n",
              "</table>\n",
              "</div>"
            ],
            "text/plain": [
              "      MobileNetV2  EfficientNetB0\n",
              "40x         93.84           96.38\n",
              "100x        87.94           96.10\n",
              "200x        89.25           91.76\n",
              "400x        87.82           94.12"
            ]
          },
          "metadata": {
            "tags": []
          },
          "execution_count": 10
        }
      ]
    },
    {
      "cell_type": "code",
      "metadata": {
        "colab": {
          "base_uri": "https://localhost:8080/",
          "height": 551
        },
        "id": "by4yCrwvz9rq",
        "outputId": "299c26fe-2e4d-4782-8d97-385ea46d6d02"
      },
      "source": [
        "sen_df.plot.bar(title = 'Sensitivity', figsize=(12,8))\n",
        "plt.title('Sensitivity', fontsize = 16)\n",
        "plt.xlabel('Magnification Factor', fontsize = 14)\n",
        "plt.ylabel('Sensitivity in %', fontsize = 14)"
      ],
      "execution_count": null,
      "outputs": [
        {
          "output_type": "execute_result",
          "data": {
            "text/plain": [
              "Text(0, 0.5, 'Sensitivity in %')"
            ]
          },
          "metadata": {
            "tags": []
          },
          "execution_count": 15
        },
        {
          "output_type": "display_data",
          "data": {
            "image/png": "[encoded data removed]",
            "text/plain": [
              "<Figure size 864x576 with 1 Axes>"
            ]
          },
          "metadata": {
            "tags": [],
            "needs_background": "light"
          }
        }
      ]
    },
    {
      "cell_type": "code",
      "metadata": {
        "colab": {
          "base_uri": "https://localhost:8080/",
          "height": 172
        },
        "id": "m6Hl4CUn0BpH",
        "outputId": "f18ca288-035e-4276-efa4-f530d7842bf5"
      },
      "source": [
        "spec_df = pd.DataFrame({'MobileNetV2' : mob_spec, 'EfficientNetB0' : eff_spec}, index = mag)\n",
        "spec_df"
      ],
      "execution_count": null,
      "outputs": [
        {
          "output_type": "execute_result",
          "data": {
            "text/html": [
              "<div>\n",
              "<style scoped>\n",
              "    .dataframe tbody tr th:only-of-type {\n",
              "        vertical-align: middle;\n",
              "    }\n",
              "\n",
              "    .dataframe tbody tr th {\n",
              "        vertical-align: top;\n",
              "    }\n",
              "\n",
              "    .dataframe thead th {\n",
              "        text-align: right;\n",
              "    }\n",
              "</style>\n",
              "<table border=\"1\" class=\"dataframe\">\n",
              "  <thead>\n",
              "    <tr style=\"text-align: right;\">\n",
              "      <th></th>\n",
              "      <th>MobileNetV2</th>\n",
              "      <th>EfficientNetB0</th>\n",
              "    </tr>\n",
              "  </thead>\n",
              "  <tbody>\n",
              "    <tr>\n",
              "      <th>40x</th>\n",
              "      <td>82.93</td>\n",
              "      <td>91.87</td>\n",
              "    </tr>\n",
              "    <tr>\n",
              "      <th>100x</th>\n",
              "      <td>85.93</td>\n",
              "      <td>87.41</td>\n",
              "    </tr>\n",
              "    <tr>\n",
              "      <th>200x</th>\n",
              "      <td>78.23</td>\n",
              "      <td>91.94</td>\n",
              "    </tr>\n",
              "    <tr>\n",
              "      <th>400x</th>\n",
              "      <td>76.98</td>\n",
              "      <td>76.98</td>\n",
              "    </tr>\n",
              "  </tbody>\n",
              "</table>\n",
              "</div>"
            ],
            "text/plain": [
              "      MobileNetV2  EfficientNetB0\n",
              "40x         82.93           91.87\n",
              "100x        85.93           87.41\n",
              "200x        78.23           91.94\n",
              "400x        76.98           76.98"
            ]
          },
          "metadata": {
            "tags": []
          },
          "execution_count": 18
        }
      ]
    },
    {
      "cell_type": "code",
      "metadata": {
        "colab": {
          "base_uri": "https://localhost:8080/",
          "height": 551
        },
        "id": "57RrP4QC0SCo",
        "outputId": "33dc632c-98f2-49b9-88f3-4d3743057a7b"
      },
      "source": [
        "spec_df.plot.bar(figsize=(12,8))\n",
        "plt.title('Specificity', fontsize = 16)\n",
        "plt.xlabel('Magnification Factor', fontsize = 14)\n",
        "plt.ylabel('Specificity in %', fontsize = 14)"
      ],
      "execution_count": null,
      "outputs": [
        {
          "output_type": "execute_result",
          "data": {
            "text/plain": [
              "Text(0, 0.5, 'Specificity in %')"
            ]
          },
          "metadata": {
            "tags": []
          },
          "execution_count": 19
        },
        {
          "output_type": "display_data",
          "data": {
            "image/png": "[encoded data removed]",
            "text/plain": [
              "<Figure size 864x576 with 1 Axes>"
            ]
          },
          "metadata": {
            "tags": [],
            "needs_background": "light"
          }
        }
      ]
    },
    {
      "cell_type": "code",
      "metadata": {
        "id": "OlPjUSR60hEf"
      },
      "source": [
        ""
      ],
      "execution_count": null,
      "outputs": []
    }
  ]
}